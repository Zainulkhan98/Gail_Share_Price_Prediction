{
 "cells": [
  {
   "cell_type": "code",
   "execution_count": 242,
   "id": "initial_id",
   "metadata": {
    "collapsed": true,
    "ExecuteTime": {
     "end_time": "2024-05-06T07:11:01.865029Z",
     "start_time": "2024-05-06T07:11:01.861326Z"
    }
   },
   "outputs": [],
   "source": [
    "import pandas as pd\n",
    "import matplotlib.pyplot as plt\n",
    "import numpy as np\n",
    "import seaborn as sns"
   ]
  },
  {
   "cell_type": "code",
   "outputs": [],
   "source": [
    "data = pd.read_csv('Z:\\\\Downloads\\\\Gail_Share_Data\\\\GAIL.NS.csv')\n",
    "data1 = pd.read_csv('Z:\\\\Downloads\\\\Gail_Share_Data\\\\gail_data.csv')"
   ],
   "metadata": {
    "collapsed": false,
    "ExecuteTime": {
     "end_time": "2024-05-06T07:11:02.469536Z",
     "start_time": "2024-05-06T07:11:01.913938Z"
    }
   },
   "id": "11f399ed3ee79045",
   "execution_count": 243
  },
  {
   "cell_type": "code",
   "outputs": [],
   "source": [
    "data = data.drop(['Adj Close'], axis=1)\n",
    "data1 = data1.drop(['time'], axis=1)\n",
    "data.columns = data.columns.str.lower()"
   ],
   "metadata": {
    "collapsed": false,
    "ExecuteTime": {
     "end_time": "2024-05-06T07:11:02.490451Z",
     "start_time": "2024-05-06T07:11:02.471611Z"
    }
   },
   "id": "d26be5ac1d107397",
   "execution_count": 244
  },
  {
   "cell_type": "code",
   "outputs": [
    {
     "data": {
      "text/plain": "         date        open        high         low       close    volume\n0  2023-05-05  107.349998  108.500000  107.050003  107.650002   4948142\n1  2023-05-08  107.699997  108.099998  107.000000  107.449997   4868763\n2  2023-05-09  107.449997  108.250000  106.550003  106.949997  11885359\n3  2023-05-10  106.900002  109.099998  106.250000  109.000000   7172451\n4  2023-05-11  109.849998  110.199997  108.500000  109.349998   7784358",
      "text/html": "<div>\n<style scoped>\n    .dataframe tbody tr th:only-of-type {\n        vertical-align: middle;\n    }\n\n    .dataframe tbody tr th {\n        vertical-align: top;\n    }\n\n    .dataframe thead th {\n        text-align: right;\n    }\n</style>\n<table border=\"1\" class=\"dataframe\">\n  <thead>\n    <tr style=\"text-align: right;\">\n      <th></th>\n      <th>date</th>\n      <th>open</th>\n      <th>high</th>\n      <th>low</th>\n      <th>close</th>\n      <th>volume</th>\n    </tr>\n  </thead>\n  <tbody>\n    <tr>\n      <th>0</th>\n      <td>2023-05-05</td>\n      <td>107.349998</td>\n      <td>108.500000</td>\n      <td>107.050003</td>\n      <td>107.650002</td>\n      <td>4948142</td>\n    </tr>\n    <tr>\n      <th>1</th>\n      <td>2023-05-08</td>\n      <td>107.699997</td>\n      <td>108.099998</td>\n      <td>107.000000</td>\n      <td>107.449997</td>\n      <td>4868763</td>\n    </tr>\n    <tr>\n      <th>2</th>\n      <td>2023-05-09</td>\n      <td>107.449997</td>\n      <td>108.250000</td>\n      <td>106.550003</td>\n      <td>106.949997</td>\n      <td>11885359</td>\n    </tr>\n    <tr>\n      <th>3</th>\n      <td>2023-05-10</td>\n      <td>106.900002</td>\n      <td>109.099998</td>\n      <td>106.250000</td>\n      <td>109.000000</td>\n      <td>7172451</td>\n    </tr>\n    <tr>\n      <th>4</th>\n      <td>2023-05-11</td>\n      <td>109.849998</td>\n      <td>110.199997</td>\n      <td>108.500000</td>\n      <td>109.349998</td>\n      <td>7784358</td>\n    </tr>\n  </tbody>\n</table>\n</div>"
     },
     "execution_count": 245,
     "metadata": {},
     "output_type": "execute_result"
    }
   ],
   "source": [
    "data.head()"
   ],
   "metadata": {
    "collapsed": false,
    "ExecuteTime": {
     "end_time": "2024-05-06T07:11:02.550422Z",
     "start_time": "2024-05-06T07:11:02.491492Z"
    }
   },
   "id": "29bea93c0b1ae9e1",
   "execution_count": 245
  },
  {
   "cell_type": "code",
   "outputs": [
    {
     "data": {
      "text/plain": "(370791, 6)"
     },
     "execution_count": 246,
     "metadata": {},
     "output_type": "execute_result"
    }
   ],
   "source": [
    "Data = pd.concat([data, data1], axis=0)\n",
    "Data.shape"
   ],
   "metadata": {
    "collapsed": false,
    "ExecuteTime": {
     "end_time": "2024-05-06T07:11:02.589929Z",
     "start_time": "2024-05-06T07:11:02.555980Z"
    }
   },
   "id": "621a10407e6559e7",
   "execution_count": 246
  },
  {
   "cell_type": "code",
   "outputs": [
    {
     "data": {
      "text/plain": "Index(['date', 'open', 'high', 'low', 'close', 'volume'], dtype='object')"
     },
     "execution_count": 247,
     "metadata": {},
     "output_type": "execute_result"
    }
   ],
   "source": [
    "data.columns"
   ],
   "metadata": {
    "collapsed": false,
    "ExecuteTime": {
     "end_time": "2024-05-06T07:11:02.615635Z",
     "start_time": "2024-05-06T07:11:02.592925Z"
    }
   },
   "id": "ac0a947ad4054f50",
   "execution_count": 247
  },
  {
   "cell_type": "code",
   "outputs": [
    {
     "data": {
      "text/plain": "Index(['date', 'open', 'high', 'low', 'close', 'volume'], dtype='object')"
     },
     "execution_count": 248,
     "metadata": {},
     "output_type": "execute_result"
    }
   ],
   "source": [
    "data1.columns\n"
   ],
   "metadata": {
    "collapsed": false,
    "ExecuteTime": {
     "end_time": "2024-05-06T07:11:02.660121Z",
     "start_time": "2024-05-06T07:11:02.618122Z"
    }
   },
   "id": "266bedf7d9a6118f",
   "execution_count": 248
  },
  {
   "cell_type": "code",
   "outputs": [
    {
     "data": {
      "text/plain": "date        0\nopen      141\nhigh      141\nlow       141\nclose     141\nvolume    141\ndtype: int64"
     },
     "execution_count": 249,
     "metadata": {},
     "output_type": "execute_result"
    }
   ],
   "source": [
    "Data.isnull().sum()"
   ],
   "metadata": {
    "collapsed": false,
    "ExecuteTime": {
     "end_time": "2024-05-06T07:11:02.719906Z",
     "start_time": "2024-05-06T07:11:02.667055Z"
    }
   },
   "id": "f5a4a621d7e9f9ce",
   "execution_count": 249
  },
  {
   "cell_type": "code",
   "outputs": [],
   "source": [
    "from sklearn.impute import SimpleImputer\n",
    "imputer = SimpleImputer(strategy='mean')\n",
    "\n",
    "Data['open'] = imputer.fit_transform(Data[['open']])\n",
    "Data['high'] = imputer.fit_transform(Data[['high']])\n",
    "Data['low'] = imputer.fit_transform(Data[['low']])\n",
    "Data['close'] = imputer.fit_transform(Data[['close']])\n",
    "Data['volume'] = imputer.fit_transform(Data[['volume']])"
   ],
   "metadata": {
    "collapsed": false,
    "ExecuteTime": {
     "end_time": "2024-05-06T07:11:02.845451Z",
     "start_time": "2024-05-06T07:11:02.721886Z"
    }
   },
   "id": "38a457c974915a6c",
   "execution_count": 250
  },
  {
   "cell_type": "code",
   "outputs": [
    {
     "data": {
      "text/plain": "date      0\nopen      0\nhigh      0\nlow       0\nclose     0\nvolume    0\ndtype: int64"
     },
     "execution_count": 251,
     "metadata": {},
     "output_type": "execute_result"
    }
   ],
   "source": [
    "Data.isnull().sum()"
   ],
   "metadata": {
    "collapsed": false,
    "ExecuteTime": {
     "end_time": "2024-05-06T07:11:02.875426Z",
     "start_time": "2024-05-06T07:11:02.847477Z"
    }
   },
   "id": "36a6142394587fd4",
   "execution_count": 251
  },
  {
   "cell_type": "code",
   "outputs": [],
   "source": [
    "import DateTime as dt\n",
    "\n",
    "Data['date'] = pd.to_datetime(Data['date'])\n",
    "Data['year'] = Data['date'].dt.year\n",
    "Data['month'] = Data['date'].dt.month\n",
    "Data['day'] = Data['date'].dt.day\n",
    "Data['day_of_week'] = Data['date'].dt.dayofweek\n",
    "Data['day_of_year'] = Data['date'].dt.dayofyear\n",
    "Data['quarter'] = Data['date'].dt.quarter\n",
    "Data['day_name'] = Data['date'].dt.day_name()"
   ],
   "metadata": {
    "collapsed": false,
    "ExecuteTime": {
     "end_time": "2024-05-06T07:11:03.303463Z",
     "start_time": "2024-05-06T07:11:02.878828Z"
    }
   },
   "id": "da266d31c7cdf6ab",
   "execution_count": 252
  },
  {
   "cell_type": "code",
   "outputs": [
    {
     "data": {
      "text/plain": "        date        open        high         low       close      volume  \\\n0 2023-05-05  107.349998  108.500000  107.050003  107.650002   4948142.0   \n1 2023-05-08  107.699997  108.099998  107.000000  107.449997   4868763.0   \n2 2023-05-09  107.449997  108.250000  106.550003  106.949997  11885359.0   \n3 2023-05-10  106.900002  109.099998  106.250000  109.000000   7172451.0   \n4 2023-05-11  109.849998  110.199997  108.500000  109.349998   7784358.0   \n\n   year  month  day  day_of_week  day_of_year  quarter   day_name  \n0  2023      5    5            4          125        2     Friday  \n1  2023      5    8            0          128        2     Monday  \n2  2023      5    9            1          129        2    Tuesday  \n3  2023      5   10            2          130        2  Wednesday  \n4  2023      5   11            3          131        2   Thursday  ",
      "text/html": "<div>\n<style scoped>\n    .dataframe tbody tr th:only-of-type {\n        vertical-align: middle;\n    }\n\n    .dataframe tbody tr th {\n        vertical-align: top;\n    }\n\n    .dataframe thead th {\n        text-align: right;\n    }\n</style>\n<table border=\"1\" class=\"dataframe\">\n  <thead>\n    <tr style=\"text-align: right;\">\n      <th></th>\n      <th>date</th>\n      <th>open</th>\n      <th>high</th>\n      <th>low</th>\n      <th>close</th>\n      <th>volume</th>\n      <th>year</th>\n      <th>month</th>\n      <th>day</th>\n      <th>day_of_week</th>\n      <th>day_of_year</th>\n      <th>quarter</th>\n      <th>day_name</th>\n    </tr>\n  </thead>\n  <tbody>\n    <tr>\n      <th>0</th>\n      <td>2023-05-05</td>\n      <td>107.349998</td>\n      <td>108.500000</td>\n      <td>107.050003</td>\n      <td>107.650002</td>\n      <td>4948142.0</td>\n      <td>2023</td>\n      <td>5</td>\n      <td>5</td>\n      <td>4</td>\n      <td>125</td>\n      <td>2</td>\n      <td>Friday</td>\n    </tr>\n    <tr>\n      <th>1</th>\n      <td>2023-05-08</td>\n      <td>107.699997</td>\n      <td>108.099998</td>\n      <td>107.000000</td>\n      <td>107.449997</td>\n      <td>4868763.0</td>\n      <td>2023</td>\n      <td>5</td>\n      <td>8</td>\n      <td>0</td>\n      <td>128</td>\n      <td>2</td>\n      <td>Monday</td>\n    </tr>\n    <tr>\n      <th>2</th>\n      <td>2023-05-09</td>\n      <td>107.449997</td>\n      <td>108.250000</td>\n      <td>106.550003</td>\n      <td>106.949997</td>\n      <td>11885359.0</td>\n      <td>2023</td>\n      <td>5</td>\n      <td>9</td>\n      <td>1</td>\n      <td>129</td>\n      <td>2</td>\n      <td>Tuesday</td>\n    </tr>\n    <tr>\n      <th>3</th>\n      <td>2023-05-10</td>\n      <td>106.900002</td>\n      <td>109.099998</td>\n      <td>106.250000</td>\n      <td>109.000000</td>\n      <td>7172451.0</td>\n      <td>2023</td>\n      <td>5</td>\n      <td>10</td>\n      <td>2</td>\n      <td>130</td>\n      <td>2</td>\n      <td>Wednesday</td>\n    </tr>\n    <tr>\n      <th>4</th>\n      <td>2023-05-11</td>\n      <td>109.849998</td>\n      <td>110.199997</td>\n      <td>108.500000</td>\n      <td>109.349998</td>\n      <td>7784358.0</td>\n      <td>2023</td>\n      <td>5</td>\n      <td>11</td>\n      <td>3</td>\n      <td>131</td>\n      <td>2</td>\n      <td>Thursday</td>\n    </tr>\n  </tbody>\n</table>\n</div>"
     },
     "execution_count": 253,
     "metadata": {},
     "output_type": "execute_result"
    }
   ],
   "source": [
    "Data.head()"
   ],
   "metadata": {
    "collapsed": false,
    "ExecuteTime": {
     "end_time": "2024-05-06T07:11:03.360583Z",
     "start_time": "2024-05-06T07:11:03.306459Z"
    }
   },
   "id": "110d15afe579acb7",
   "execution_count": 253
  },
  {
   "cell_type": "code",
   "outputs": [],
   "source": [
    "from sklearn.preprocessing import LabelEncoder\n",
    "Data = Data.drop(['date'], axis=1)\n",
    "Data['day_name'] = LabelEncoder().fit_transform(Data['day_name'])\n"
   ],
   "metadata": {
    "collapsed": false,
    "ExecuteTime": {
     "end_time": "2024-05-06T07:11:03.914555Z",
     "start_time": "2024-05-06T07:11:03.361630Z"
    }
   },
   "id": "15fdcfbf110b18ca",
   "execution_count": 254
  },
  {
   "cell_type": "code",
   "outputs": [],
   "source": [
    "from sklearn.preprocessing import StandardScaler\n",
    "scaler = StandardScaler()\n",
    "# Data[['open', 'high', 'low', 'close', 'volume']] = scaler.fit_transform(Data[['open', 'high', 'low', 'close', 'volume']])\n",
    "Data['volume'] = scaler.fit_transform(Data['volume'].values.reshape(-1, 1))"
   ],
   "metadata": {
    "collapsed": false,
    "ExecuteTime": {
     "end_time": "2024-05-06T07:11:03.941533Z",
     "start_time": "2024-05-06T07:11:03.927582Z"
    }
   },
   "id": "5554e6f4001bd05",
   "execution_count": 255
  },
  {
   "cell_type": "code",
   "outputs": [
    {
     "data": {
      "text/plain": "         open        high         low       close     volume  year  month  \\\n0  107.349998  108.500000  107.050003  107.650002   8.222298  2023      5   \n1  107.699997  108.099998  107.000000  107.449997   8.089457  2023      5   \n2  107.449997  108.250000  106.550003  106.949997  19.831804  2023      5   \n3  106.900002  109.099998  106.250000  109.000000  11.944703  2023      5   \n4  109.849998  110.199997  108.500000  109.349998  12.968736  2023      5   \n\n   day  day_of_week  day_of_year  quarter  day_name  \n0    5            4          125        2         0  \n1    8            0          128        2         1  \n2    9            1          129        2         5  \n3   10            2          130        2         6  \n4   11            3          131        2         4  ",
      "text/html": "<div>\n<style scoped>\n    .dataframe tbody tr th:only-of-type {\n        vertical-align: middle;\n    }\n\n    .dataframe tbody tr th {\n        vertical-align: top;\n    }\n\n    .dataframe thead th {\n        text-align: right;\n    }\n</style>\n<table border=\"1\" class=\"dataframe\">\n  <thead>\n    <tr style=\"text-align: right;\">\n      <th></th>\n      <th>open</th>\n      <th>high</th>\n      <th>low</th>\n      <th>close</th>\n      <th>volume</th>\n      <th>year</th>\n      <th>month</th>\n      <th>day</th>\n      <th>day_of_week</th>\n      <th>day_of_year</th>\n      <th>quarter</th>\n      <th>day_name</th>\n    </tr>\n  </thead>\n  <tbody>\n    <tr>\n      <th>0</th>\n      <td>107.349998</td>\n      <td>108.500000</td>\n      <td>107.050003</td>\n      <td>107.650002</td>\n      <td>8.222298</td>\n      <td>2023</td>\n      <td>5</td>\n      <td>5</td>\n      <td>4</td>\n      <td>125</td>\n      <td>2</td>\n      <td>0</td>\n    </tr>\n    <tr>\n      <th>1</th>\n      <td>107.699997</td>\n      <td>108.099998</td>\n      <td>107.000000</td>\n      <td>107.449997</td>\n      <td>8.089457</td>\n      <td>2023</td>\n      <td>5</td>\n      <td>8</td>\n      <td>0</td>\n      <td>128</td>\n      <td>2</td>\n      <td>1</td>\n    </tr>\n    <tr>\n      <th>2</th>\n      <td>107.449997</td>\n      <td>108.250000</td>\n      <td>106.550003</td>\n      <td>106.949997</td>\n      <td>19.831804</td>\n      <td>2023</td>\n      <td>5</td>\n      <td>9</td>\n      <td>1</td>\n      <td>129</td>\n      <td>2</td>\n      <td>5</td>\n    </tr>\n    <tr>\n      <th>3</th>\n      <td>106.900002</td>\n      <td>109.099998</td>\n      <td>106.250000</td>\n      <td>109.000000</td>\n      <td>11.944703</td>\n      <td>2023</td>\n      <td>5</td>\n      <td>10</td>\n      <td>2</td>\n      <td>130</td>\n      <td>2</td>\n      <td>6</td>\n    </tr>\n    <tr>\n      <th>4</th>\n      <td>109.849998</td>\n      <td>110.199997</td>\n      <td>108.500000</td>\n      <td>109.349998</td>\n      <td>12.968736</td>\n      <td>2023</td>\n      <td>5</td>\n      <td>11</td>\n      <td>3</td>\n      <td>131</td>\n      <td>2</td>\n      <td>4</td>\n    </tr>\n  </tbody>\n</table>\n</div>"
     },
     "execution_count": 256,
     "metadata": {},
     "output_type": "execute_result"
    }
   ],
   "source": [
    "Data.head()"
   ],
   "metadata": {
    "collapsed": false,
    "ExecuteTime": {
     "end_time": "2024-05-06T07:11:04.041854Z",
     "start_time": "2024-05-06T07:11:03.942627Z"
    }
   },
   "id": "139c7de1acad68be",
   "execution_count": 256
  },
  {
   "cell_type": "code",
   "outputs": [],
   "source": [],
   "metadata": {
    "collapsed": false,
    "ExecuteTime": {
     "end_time": "2024-05-06T07:11:04.049427Z",
     "start_time": "2024-05-06T07:11:04.044851Z"
    }
   },
   "id": "b75ecbccb42ba9b7",
   "execution_count": 256
  },
  {
   "cell_type": "code",
   "outputs": [],
   "source": [
    "train = Data[Data['year'] < 2021]\n",
    "test = Data[Data['year'] >= 2021]\n",
    "\n",
    "X_train = train.drop(['close'], axis=1)\n",
    "y_train = train['close']\n",
    "\n",
    "X_test = test.drop(['close'], axis=1)\n",
    "y_test = test['close']"
   ],
   "metadata": {
    "collapsed": false,
    "ExecuteTime": {
     "end_time": "2024-05-06T07:11:04.146515Z",
     "start_time": "2024-05-06T07:11:04.054516Z"
    }
   },
   "id": "a1f3ddb781f80a83",
   "execution_count": 257
  },
  {
   "cell_type": "code",
   "outputs": [],
   "source": [],
   "metadata": {
    "collapsed": false,
    "ExecuteTime": {
     "end_time": "2024-05-06T07:11:04.150591Z",
     "start_time": "2024-05-06T07:11:04.147516Z"
    }
   },
   "id": "e6251c82551415de",
   "execution_count": 257
  },
  {
   "cell_type": "code",
   "outputs": [
    {
     "name": "stdout",
     "output_type": "stream",
     "text": [
      "(370171, 11) (370171,)\n",
      "(620, 11) (620,)\n"
     ]
    }
   ],
   "source": [
    "print(X_train.shape, y_train.shape)\n",
    "print(X_test.shape, y_test.shape)"
   ],
   "metadata": {
    "collapsed": false,
    "ExecuteTime": {
     "end_time": "2024-05-06T07:11:04.172667Z",
     "start_time": "2024-05-06T07:11:04.163561Z"
    }
   },
   "id": "91e7561c510c8519",
   "execution_count": 258
  },
  {
   "cell_type": "code",
   "outputs": [],
   "source": [
    "\n",
    "\n",
    "# for column in X_train.columns:\n",
    "#     plt.figure(figsize=(10, 5))\n",
    "#     sns.histplot(X_train[column], kde=True)\n",
    "#     plt.title(f'Distribution of {column}')\n",
    "#     plt.show()"
   ],
   "metadata": {
    "collapsed": false,
    "ExecuteTime": {
     "end_time": "2024-05-06T07:11:04.245902Z",
     "start_time": "2024-05-06T07:11:04.177659Z"
    }
   },
   "id": "8cf12447f4694f41",
   "execution_count": 259
  },
  {
   "cell_type": "code",
   "outputs": [
    {
     "data": {
      "text/plain": "            open      high       low    volume      year     month       day  \\\n0      -0.693277 -0.695510 -0.712560  0.601697 -1.341074 -1.708435 -1.728237   \n1      -0.713451 -0.708481 -0.711122  0.402589 -1.341074 -1.708435 -1.728237   \n2      -0.707698 -0.709920 -0.724047  0.291136 -1.341074 -1.708435 -1.728237   \n3      -0.722067 -0.715669 -0.719744  0.949923 -1.341074 -1.708435 -1.728237   \n4      -0.719197 -0.717106 -0.718308 -0.456129 -1.341074 -1.708435 -1.728237   \n...          ...       ...       ...       ...       ...       ...       ...   \n370166 -0.719197 -0.717106 -0.718308  1.743096  1.333042  1.503332  1.589695   \n370167 -0.717761 -0.715669 -0.715435  1.703519  1.333042  1.503332  1.589695   \n370168 -0.717761 -0.715669 -0.715435  1.553580  1.333042  1.503332  1.589695   \n370169 -0.719197 -0.718541 -0.721179  1.553580  1.333042  1.503332  1.589695   \n370170 -0.723501 -0.719976 -0.725481  0.919077  1.333042  1.503332  1.589695   \n\n        day_of_week  day_of_year   quarter  day_name  \n0         -1.511304    -2.063954 -1.384341 -0.926545  \n1         -1.511304    -2.063954 -1.384341 -0.926545  \n2         -1.511304    -2.063954 -1.384341 -0.926545  \n3         -1.511304    -2.063954 -1.384341 -0.926545  \n4         -1.511304    -2.063954 -1.384341 -0.926545  \n...             ...          ...       ...       ...  \n370166     0.729960     1.566076  1.302918  0.381075  \n370167     0.729960     1.566076  1.302918  0.381075  \n370168     0.729960     1.566076  1.302918  0.381075  \n370169     0.729960     1.566076  1.302918  0.381075  \n370170     0.729960     1.566076  1.302918  0.381075  \n\n[370171 rows x 11 columns]",
      "text/html": "<div>\n<style scoped>\n    .dataframe tbody tr th:only-of-type {\n        vertical-align: middle;\n    }\n\n    .dataframe tbody tr th {\n        vertical-align: top;\n    }\n\n    .dataframe thead th {\n        text-align: right;\n    }\n</style>\n<table border=\"1\" class=\"dataframe\">\n  <thead>\n    <tr style=\"text-align: right;\">\n      <th></th>\n      <th>open</th>\n      <th>high</th>\n      <th>low</th>\n      <th>volume</th>\n      <th>year</th>\n      <th>month</th>\n      <th>day</th>\n      <th>day_of_week</th>\n      <th>day_of_year</th>\n      <th>quarter</th>\n      <th>day_name</th>\n    </tr>\n  </thead>\n  <tbody>\n    <tr>\n      <th>0</th>\n      <td>-0.693277</td>\n      <td>-0.695510</td>\n      <td>-0.712560</td>\n      <td>0.601697</td>\n      <td>-1.341074</td>\n      <td>-1.708435</td>\n      <td>-1.728237</td>\n      <td>-1.511304</td>\n      <td>-2.063954</td>\n      <td>-1.384341</td>\n      <td>-0.926545</td>\n    </tr>\n    <tr>\n      <th>1</th>\n      <td>-0.713451</td>\n      <td>-0.708481</td>\n      <td>-0.711122</td>\n      <td>0.402589</td>\n      <td>-1.341074</td>\n      <td>-1.708435</td>\n      <td>-1.728237</td>\n      <td>-1.511304</td>\n      <td>-2.063954</td>\n      <td>-1.384341</td>\n      <td>-0.926545</td>\n    </tr>\n    <tr>\n      <th>2</th>\n      <td>-0.707698</td>\n      <td>-0.709920</td>\n      <td>-0.724047</td>\n      <td>0.291136</td>\n      <td>-1.341074</td>\n      <td>-1.708435</td>\n      <td>-1.728237</td>\n      <td>-1.511304</td>\n      <td>-2.063954</td>\n      <td>-1.384341</td>\n      <td>-0.926545</td>\n    </tr>\n    <tr>\n      <th>3</th>\n      <td>-0.722067</td>\n      <td>-0.715669</td>\n      <td>-0.719744</td>\n      <td>0.949923</td>\n      <td>-1.341074</td>\n      <td>-1.708435</td>\n      <td>-1.728237</td>\n      <td>-1.511304</td>\n      <td>-2.063954</td>\n      <td>-1.384341</td>\n      <td>-0.926545</td>\n    </tr>\n    <tr>\n      <th>4</th>\n      <td>-0.719197</td>\n      <td>-0.717106</td>\n      <td>-0.718308</td>\n      <td>-0.456129</td>\n      <td>-1.341074</td>\n      <td>-1.708435</td>\n      <td>-1.728237</td>\n      <td>-1.511304</td>\n      <td>-2.063954</td>\n      <td>-1.384341</td>\n      <td>-0.926545</td>\n    </tr>\n    <tr>\n      <th>...</th>\n      <td>...</td>\n      <td>...</td>\n      <td>...</td>\n      <td>...</td>\n      <td>...</td>\n      <td>...</td>\n      <td>...</td>\n      <td>...</td>\n      <td>...</td>\n      <td>...</td>\n      <td>...</td>\n    </tr>\n    <tr>\n      <th>370166</th>\n      <td>-0.719197</td>\n      <td>-0.717106</td>\n      <td>-0.718308</td>\n      <td>1.743096</td>\n      <td>1.333042</td>\n      <td>1.503332</td>\n      <td>1.589695</td>\n      <td>0.729960</td>\n      <td>1.566076</td>\n      <td>1.302918</td>\n      <td>0.381075</td>\n    </tr>\n    <tr>\n      <th>370167</th>\n      <td>-0.717761</td>\n      <td>-0.715669</td>\n      <td>-0.715435</td>\n      <td>1.703519</td>\n      <td>1.333042</td>\n      <td>1.503332</td>\n      <td>1.589695</td>\n      <td>0.729960</td>\n      <td>1.566076</td>\n      <td>1.302918</td>\n      <td>0.381075</td>\n    </tr>\n    <tr>\n      <th>370168</th>\n      <td>-0.717761</td>\n      <td>-0.715669</td>\n      <td>-0.715435</td>\n      <td>1.553580</td>\n      <td>1.333042</td>\n      <td>1.503332</td>\n      <td>1.589695</td>\n      <td>0.729960</td>\n      <td>1.566076</td>\n      <td>1.302918</td>\n      <td>0.381075</td>\n    </tr>\n    <tr>\n      <th>370169</th>\n      <td>-0.719197</td>\n      <td>-0.718541</td>\n      <td>-0.721179</td>\n      <td>1.553580</td>\n      <td>1.333042</td>\n      <td>1.503332</td>\n      <td>1.589695</td>\n      <td>0.729960</td>\n      <td>1.566076</td>\n      <td>1.302918</td>\n      <td>0.381075</td>\n    </tr>\n    <tr>\n      <th>370170</th>\n      <td>-0.723501</td>\n      <td>-0.719976</td>\n      <td>-0.725481</td>\n      <td>0.919077</td>\n      <td>1.333042</td>\n      <td>1.503332</td>\n      <td>1.589695</td>\n      <td>0.729960</td>\n      <td>1.566076</td>\n      <td>1.302918</td>\n      <td>0.381075</td>\n    </tr>\n  </tbody>\n</table>\n<p>370171 rows × 11 columns</p>\n</div>"
     },
     "execution_count": 260,
     "metadata": {},
     "output_type": "execute_result"
    }
   ],
   "source": [
    "from sklearn.preprocessing import PowerTransformer\n",
    "\n",
    "# Applying Box-Cox Transform\n",
    "pt = PowerTransformer()\n",
    "x_train_transformed = pd.DataFrame(pt.fit_transform(X_train+0.000001), columns=X_train.columns)\n",
    "x_train_transformed"
   ],
   "metadata": {
    "collapsed": false,
    "ExecuteTime": {
     "end_time": "2024-05-06T07:11:10.962764Z",
     "start_time": "2024-05-06T07:11:04.247901Z"
    }
   },
   "id": "279a1a526161b5d8",
   "execution_count": 260
  },
  {
   "cell_type": "code",
   "outputs": [],
   "source": [
    "\n",
    "\n",
    "# for column in x_train_transformed.columns:\n",
    "#     plt.figure(figsize=(10, 5))\n",
    "#     sns.histplot(x_train_transformed[column], kde=True)\n",
    "#     plt.title(f'Distribution of {column}')\n",
    "#     plt.show()"
   ],
   "metadata": {
    "collapsed": false,
    "ExecuteTime": {
     "end_time": "2024-05-06T07:11:10.967991Z",
     "start_time": "2024-05-06T07:11:10.963843Z"
    }
   },
   "id": "ed35c5f46519f0a0",
   "execution_count": 261
  },
  {
   "cell_type": "code",
   "outputs": [],
   "source": [
    "from xgboost import XGBRegressor\n",
    "import joblib\n",
    "\n",
    "model = XGBRegressor().fit(X_train, y_train)\n",
    "\n",
    "joblib.dump(model,'gail_model.pkl')\n",
    "\n",
    "ypred = model.predict(X_test)"
   ],
   "metadata": {
    "collapsed": false,
    "ExecuteTime": {
     "end_time": "2024-05-06T07:12:42.840728Z",
     "start_time": "2024-05-06T07:12:40.896520Z"
    }
   },
   "id": "47cf03a1a6798ec5",
   "execution_count": 263
  },
  {
   "cell_type": "code",
   "outputs": [
    {
     "name": "stdout",
     "output_type": "stream",
     "text": [
      "Mean Absolute Error: 0.670437146785219\n",
      "Mean Squared Error: 3.1598290897187074\n",
      "Root Mean Squared Error: 1.7775908105406901\n",
      "R2 Score: 0.9932724114328844\n"
     ]
    }
   ],
   "source": [
    "from sklearn.metrics import mean_squared_error, mean_absolute_error, r2_score\n",
    "\n",
    "MAE = mean_absolute_error(y_test, ypred)\n",
    "MSE = mean_squared_error(y_test, ypred)\n",
    "RMSE = np.sqrt(MSE)\n",
    "R2 = r2_score(y_test, ypred)\n",
    "\n",
    "print(f'Mean Absolute Error: {MAE}')\n",
    "print(f'Mean Squared Error: {MSE}')\n",
    "print(f'Root Mean Squared Error: {RMSE}')\n",
    "print(f'R2 Score: {R2}')\n",
    "\n",
    "\n"
   ],
   "metadata": {
    "collapsed": false,
    "ExecuteTime": {
     "end_time": "2024-05-06T07:12:44.261682Z",
     "start_time": "2024-05-06T07:12:44.253764Z"
    }
   },
   "id": "767c2e6b6c184a2c",
   "execution_count": 264
  },
  {
   "cell_type": "code",
   "outputs": [],
   "source": [
    "# First - without yeo-johnson transformer\n",
    "# \n",
    "# Mean Absolute Error: 0.9273573091875628\n",
    "# Mean Squared Error: 5.67327668454551\n",
    "# Root Mean Squared Error: 2.3818641196645767\n",
    "# R2 Score: 0.9888430862085151\n",
    "# \n",
    "# \n",
    "# second - with yeo-johnson transformer\n",
    "# \n",
    "# Mean Absolute Error: 64.5774778843498\n",
    "# Mean Squared Error: 4579.253085197008\n",
    "# Root Mean Squared Error: 67.6701786993134\n",
    "# R2 Score: -8.005436318681314\n",
    "\n",
    "\n",
    "# Changed Dependent Variable to Close\n",
    "# \n",
    "# Mean Absolute Error: 0.670437146785219\n",
    "# Mean Squared Error: 3.1598290897187074\n",
    "# Root Mean Squared Error: 1.7775908105406901\n",
    "# R2 Score: 0.9932724114328844\n"
   ],
   "metadata": {
    "collapsed": false,
    "ExecuteTime": {
     "end_time": "2024-05-06T07:30:43.403943Z",
     "start_time": "2024-05-06T07:30:43.173247Z"
    }
   },
   "id": "931bd58d47719559",
   "execution_count": 265
  },
  {
   "cell_type": "code",
   "outputs": [],
   "source": [
    "# from sklearn.model_selection import RandomizedSearchCV\n",
    "# \n",
    "# params = {\n",
    "#     'n_estimators': [100, 200, 300, 400, 500],\n",
    "#     'max_depth': [2, 3, 4, 5, 6, 7, 8, 9, 10],\n",
    "#     'learning_rate': [0.05, 0.1, 0.15, 0.2],\n",
    "#     'min_child_weight': [1, 2, 3, 4],\n",
    "#     'colsample_bytree': [0.3, 0.4, 0.5, 0.6, 0.7, 0.8, 0.9, 1],\n",
    "#     'gamma': [0, 0.1, 0.2, 0.3, 0.4, 0.5, 0.6, 0.7, 0.8, 0.9, 1],\n",
    "#     'subsample': [0.5, 0.6, 0.7, 0.8, 0.9, 1]\n",
    "# }\n",
    "# a = RandomizedSearchCV(model, param_distributions=params, n_iter=5, n_jobs=-1, cv=5, verbose=3, random_state=42)"
   ],
   "metadata": {
    "collapsed": false,
    "ExecuteTime": {
     "end_time": "2024-05-06T07:30:44.600508Z",
     "start_time": "2024-05-06T07:30:44.596395Z"
    }
   },
   "id": "11ef152008e89ed3",
   "execution_count": 266
  },
  {
   "cell_type": "code",
   "outputs": [],
   "source": [
    "# best = a.fit(X_train, y_train)\n",
    "# best.best_params_"
   ],
   "metadata": {
    "collapsed": false
   },
   "id": "2b4783e93a613ad0",
   "execution_count": null
  },
  {
   "cell_type": "code",
   "outputs": [],
   "source": [],
   "metadata": {
    "collapsed": false
   },
   "id": "ac289c1b5f7ea99d",
   "execution_count": null
  },
  {
   "cell_type": "code",
   "outputs": [],
   "source": [],
   "metadata": {
    "collapsed": false,
    "ExecuteTime": {
     "end_time": "2024-05-06T07:34:02.500565Z",
     "start_time": "2024-05-06T07:34:02.408796Z"
    }
   },
   "id": "26290d6566bd7668",
   "execution_count": 269
  },
  {
   "cell_type": "code",
   "outputs": [],
   "source": [],
   "metadata": {
    "collapsed": false,
    "ExecuteTime": {
     "end_time": "2024-05-06T07:34:04.946429Z",
     "start_time": "2024-05-06T07:34:04.941856Z"
    }
   },
   "id": "c2e1c1880dc8498b",
   "execution_count": 269
  },
  {
   "cell_type": "code",
   "outputs": [],
   "source": [],
   "metadata": {
    "collapsed": false
   },
   "id": "99aab2c57cf4370b"
  }
 ],
 "metadata": {
  "kernelspec": {
   "display_name": "Python 3",
   "language": "python",
   "name": "python3"
  },
  "language_info": {
   "codemirror_mode": {
    "name": "ipython",
    "version": 2
   },
   "file_extension": ".py",
   "mimetype": "text/x-python",
   "name": "python",
   "nbconvert_exporter": "python",
   "pygments_lexer": "ipython2",
   "version": "2.7.6"
  }
 },
 "nbformat": 4,
 "nbformat_minor": 5
}
